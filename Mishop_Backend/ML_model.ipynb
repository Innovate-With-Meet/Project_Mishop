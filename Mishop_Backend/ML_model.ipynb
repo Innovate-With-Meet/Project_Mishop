{
 "cells": [
  {
   "cell_type": "markdown",
   "id": "dee36aec",
   "metadata": {},
   "source": [
    "<h3>Linear Regression</h3>"
   ]
  },
  {
   "cell_type": "markdown",
   "id": "8bd58d36",
   "metadata": {},
   "source": [
    "Aim: Find the Fire is ignite or not based on the temprature and humidity."
   ]
  },
  {
   "cell_type": "code",
   "execution_count": 2,
   "id": "c820d5bc",
   "metadata": {},
   "outputs": [],
   "source": [
    "import numpy as np\n",
    "import pandas as pd\n",
    "from sklearn.model_selection import train_test_split\n",
    "from sklearn.linear_model import LinearRegression\n"
   ]
  },
  {
   "cell_type": "code",
   "execution_count": null,
   "id": "c46e0579",
   "metadata": {},
   "outputs": [],
   "source": [
    "data = {\n",
    "    'temprature' :[35,36,37,38,39,40]\n",
    "}"
   ]
  }
 ],
 "metadata": {
  "kernelspec": {
   "display_name": "Python 3",
   "language": "python",
   "name": "python3"
  },
  "language_info": {
   "codemirror_mode": {
    "name": "ipython",
    "version": 3
   },
   "file_extension": ".py",
   "mimetype": "text/x-python",
   "name": "python",
   "nbconvert_exporter": "python",
   "pygments_lexer": "ipython3",
   "version": "3.12.3"
  }
 },
 "nbformat": 4,
 "nbformat_minor": 5
}
